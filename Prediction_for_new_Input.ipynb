{
 "cells": [
  {
   "cell_type": "code",
   "execution_count": 1,
   "id": "f7663b74",
   "metadata": {},
   "outputs": [],
   "source": [
    "from joblib import dump,load\n",
    "import numpy as np\n",
    "import pandas as pd\n",
    "model = load('RFC_Model.joblib')"
   ]
  },
  {
   "cell_type": "code",
   "execution_count": 2,
   "id": "c6fa94f1",
   "metadata": {},
   "outputs": [
    {
     "data": {
      "text/html": [
       "<style>#sk-container-id-1 {color: black;background-color: white;}#sk-container-id-1 pre{padding: 0;}#sk-container-id-1 div.sk-toggleable {background-color: white;}#sk-container-id-1 label.sk-toggleable__label {cursor: pointer;display: block;width: 100%;margin-bottom: 0;padding: 0.3em;box-sizing: border-box;text-align: center;}#sk-container-id-1 label.sk-toggleable__label-arrow:before {content: \"▸\";float: left;margin-right: 0.25em;color: #696969;}#sk-container-id-1 label.sk-toggleable__label-arrow:hover:before {color: black;}#sk-container-id-1 div.sk-estimator:hover label.sk-toggleable__label-arrow:before {color: black;}#sk-container-id-1 div.sk-toggleable__content {max-height: 0;max-width: 0;overflow: hidden;text-align: left;background-color: #f0f8ff;}#sk-container-id-1 div.sk-toggleable__content pre {margin: 0.2em;color: black;border-radius: 0.25em;background-color: #f0f8ff;}#sk-container-id-1 input.sk-toggleable__control:checked~div.sk-toggleable__content {max-height: 200px;max-width: 100%;overflow: auto;}#sk-container-id-1 input.sk-toggleable__control:checked~label.sk-toggleable__label-arrow:before {content: \"▾\";}#sk-container-id-1 div.sk-estimator input.sk-toggleable__control:checked~label.sk-toggleable__label {background-color: #d4ebff;}#sk-container-id-1 div.sk-label input.sk-toggleable__control:checked~label.sk-toggleable__label {background-color: #d4ebff;}#sk-container-id-1 input.sk-hidden--visually {border: 0;clip: rect(1px 1px 1px 1px);clip: rect(1px, 1px, 1px, 1px);height: 1px;margin: -1px;overflow: hidden;padding: 0;position: absolute;width: 1px;}#sk-container-id-1 div.sk-estimator {font-family: monospace;background-color: #f0f8ff;border: 1px dotted black;border-radius: 0.25em;box-sizing: border-box;margin-bottom: 0.5em;}#sk-container-id-1 div.sk-estimator:hover {background-color: #d4ebff;}#sk-container-id-1 div.sk-parallel-item::after {content: \"\";width: 100%;border-bottom: 1px solid gray;flex-grow: 1;}#sk-container-id-1 div.sk-label:hover label.sk-toggleable__label {background-color: #d4ebff;}#sk-container-id-1 div.sk-serial::before {content: \"\";position: absolute;border-left: 1px solid gray;box-sizing: border-box;top: 0;bottom: 0;left: 50%;z-index: 0;}#sk-container-id-1 div.sk-serial {display: flex;flex-direction: column;align-items: center;background-color: white;padding-right: 0.2em;padding-left: 0.2em;position: relative;}#sk-container-id-1 div.sk-item {position: relative;z-index: 1;}#sk-container-id-1 div.sk-parallel {display: flex;align-items: stretch;justify-content: center;background-color: white;position: relative;}#sk-container-id-1 div.sk-item::before, #sk-container-id-1 div.sk-parallel-item::before {content: \"\";position: absolute;border-left: 1px solid gray;box-sizing: border-box;top: 0;bottom: 0;left: 50%;z-index: -1;}#sk-container-id-1 div.sk-parallel-item {display: flex;flex-direction: column;z-index: 1;position: relative;background-color: white;}#sk-container-id-1 div.sk-parallel-item:first-child::after {align-self: flex-end;width: 50%;}#sk-container-id-1 div.sk-parallel-item:last-child::after {align-self: flex-start;width: 50%;}#sk-container-id-1 div.sk-parallel-item:only-child::after {width: 0;}#sk-container-id-1 div.sk-dashed-wrapped {border: 1px dashed gray;margin: 0 0.4em 0.5em 0.4em;box-sizing: border-box;padding-bottom: 0.4em;background-color: white;}#sk-container-id-1 div.sk-label label {font-family: monospace;font-weight: bold;display: inline-block;line-height: 1.2em;}#sk-container-id-1 div.sk-label-container {text-align: center;}#sk-container-id-1 div.sk-container {/* jupyter's `normalize.less` sets `[hidden] { display: none; }` but bootstrap.min.css set `[hidden] { display: none !important; }` so we also need the `!important` here to be able to override the default hidden behavior on the sphinx rendered scikit-learn.org. See: https://github.com/scikit-learn/scikit-learn/issues/21755 */display: inline-block !important;position: relative;}#sk-container-id-1 div.sk-text-repr-fallback {display: none;}</style><div id=\"sk-container-id-1\" class=\"sk-top-container\"><div class=\"sk-text-repr-fallback\"><pre>RandomForestClassifier()</pre><b>In a Jupyter environment, please rerun this cell to show the HTML representation or trust the notebook. <br />On GitHub, the HTML representation is unable to render, please try loading this page with nbviewer.org.</b></div><div class=\"sk-container\" hidden><div class=\"sk-item\"><div class=\"sk-estimator sk-toggleable\"><input class=\"sk-toggleable__control sk-hidden--visually\" id=\"sk-estimator-id-1\" type=\"checkbox\" checked><label for=\"sk-estimator-id-1\" class=\"sk-toggleable__label sk-toggleable__label-arrow\">RandomForestClassifier</label><div class=\"sk-toggleable__content\"><pre>RandomForestClassifier()</pre></div></div></div></div></div>"
      ],
      "text/plain": [
       "RandomForestClassifier()"
      ]
     },
     "execution_count": 2,
     "metadata": {},
     "output_type": "execute_result"
    }
   ],
   "source": [
    "model"
   ]
  },
  {
   "cell_type": "code",
   "execution_count": 3,
   "id": "fcd2363b",
   "metadata": {},
   "outputs": [],
   "source": [
    "# Given numbers\n",
    "input = np.array([[\n",
    "    3571.917284,2064.422324,0.343983362,1.551303544,0.180701149,2.180338968,2.912199969,3.457286704,3565.295741,2060.644007,0.673683254,2.584539742,0.723834245,3.237300477,1.307320481,1.995803993,3549.638756,2068.033681,4.24340024,10.27520609,6.978689781,11.72427062,77.11089439,46.26056284,3570.312097,2063.941415,1.215690744,2.071773605,0.849539237,2.568679538,1.501020771,2.499941175,3561.173671,2058.262469,1.535982954,2.591675095,1.675907904,3.412263065,1.53297773,2.265566711,3545.845142,2060.947802,4.900138738,10.84950582,7.183590459,11.04198883,73.97857563,45.04765423,3570.018528,2065.105613,1.004475147,2.20861557,1.536667569,3.503003839,5.933287379,4.266172258,3555.768439,2069.774402,5.509588247,12.63849792,8.272988302,14.43496406,86.82794666,51.09226346,3579.257154,2074.244879,1.87115717,5.719240053,1.325428674,5.480736745,22.82558219,14.12258236,3570.653975,2083.319401,6.051091569,9.068437419,5.636954441,10.48748545,58.11918223,34.87344885,3553.268774,2068.655384,4.410825492,9.663453581,8.398874108,12.30702037,75.77620758,44.84377518,3575.384399,2066.405916,0.614114494,2.160943791,1.189163991,1.57419104,4.678841126,4.126894036,3574.791723,2076.591642,2.925200034,9.437862257,5.242074215,11.46458783,67.43001453,41.61850276,3547.785537,2068.380844,6.348976417,13.34604135,7.08168447,11.76690672,76.70076445,45.58432949,0\n",
    "]])\n",
    "\n",
    "# Assuming you have the original feature names in a list\n",
    "feature_names = [\n",
    "    'AF3 delta std', 'AF3 delta m', 'AF3 theta std', 'AF3 theta m', 'AF3 alpha std', 'AF3 alpha m', 'AF3 beta std', 'AF3 beta m',\n",
    "    'F7 delta std', 'F7 delta m', 'F7 theta std', 'F7 theta m', 'F7 alpha std', 'F7 alpha m', 'F7 beta std', 'F7 beta m',\n",
    "    'F3 delta std', 'F3 delta m', 'F3 theta std', 'F3 theta m', 'F3 alpha std', 'F3 alpha m', 'F3 beta std', 'F3 beta m',\n",
    "    'FC5 delta std', 'FC5 delta m', 'FC5 theta std', 'FC5 theta m', 'FC5 alpha std', 'FC5 alpha m', 'FC5 beta std', 'FC5 beta m',\n",
    "    'T7 delta std', 'T7 delta m', 'T7 theta std', 'T7 theta m', 'T7 alpha std', 'T7 alpha m', 'T7 beta std', 'T7 beta m',\n",
    "    'P7 delta std', 'P7 delta m', 'P7 theta std', 'P7 theta m', 'P7 alpha std', 'P7 alpha m', 'P7 beta std', 'P7 beta m',\n",
    "    'O1 delta std', 'O1 delta m', 'O1 theta std', 'O1 theta m', 'O1 alpha std', 'O1 alpha m', 'O1 beta std', 'O1 beta m',\n",
    "    'O2 delta std', 'O2 delta m', 'O2 theta std', 'O2 theta m', 'O2 alpha std', 'O2 alpha m', 'O2 beta std', 'O2 beta m',\n",
    "    'P8 delta std', 'P8 delta m', 'P8 theta std', 'P8 theta m', 'P8 alpha std', 'P8 alpha m', 'P8 beta std', 'P8 beta m',\n",
    "    'T8 delta std', 'T8 delta m', 'T8 theta std', 'T8 theta m', 'T8 alpha std', 'T8 alpha m', 'T8 beta std', 'T8 beta m',\n",
    "    'FC6 delta std', 'FC6 delta m', 'FC6 theta std', 'FC6 theta m', 'FC6 alpha std', 'FC6 alpha m', 'FC6 beta std', 'FC6 beta m',\n",
    "    'F4 delta std', 'F4 delta m', 'F4 theta std', 'F4 theta m', 'F4 alpha std', 'F4 alpha m', 'F4 beta std', 'F4 beta m',\n",
    "    'F8 delta std', 'F8 delta_m', 'F8 theta std', 'F8 theta m', 'F8 alpha std', 'F8 alpha m', 'F8 beta std', 'F8 beta m',\n",
    "    'AF4 delta std', 'AF4 delta m', 'AF4 theta std', 'AF4 theta m', 'AF4 alpha std', 'AF4 alpha m', 'AF4 beta std',\n",
    "    'AF4 beta m','User']\n",
    "\n",
    "# Create a pandas DataFrame with the new_data and the corresponding feature_names\n",
    "input = pd.DataFrame(input, columns=feature_names)"
   ]
  },
  {
   "cell_type": "code",
   "execution_count": 4,
   "id": "7fb75df8",
   "metadata": {},
   "outputs": [
    {
     "data": {
      "text/html": [
       "<div>\n",
       "<style scoped>\n",
       "    .dataframe tbody tr th:only-of-type {\n",
       "        vertical-align: middle;\n",
       "    }\n",
       "\n",
       "    .dataframe tbody tr th {\n",
       "        vertical-align: top;\n",
       "    }\n",
       "\n",
       "    .dataframe thead th {\n",
       "        text-align: right;\n",
       "    }\n",
       "</style>\n",
       "<table border=\"1\" class=\"dataframe\">\n",
       "  <thead>\n",
       "    <tr style=\"text-align: right;\">\n",
       "      <th></th>\n",
       "      <th>AF3 delta std</th>\n",
       "      <th>AF3 delta m</th>\n",
       "      <th>AF3 theta std</th>\n",
       "      <th>AF3 theta m</th>\n",
       "      <th>AF3 alpha std</th>\n",
       "      <th>AF3 alpha m</th>\n",
       "      <th>AF3 beta std</th>\n",
       "      <th>AF3 beta m</th>\n",
       "      <th>F7 delta std</th>\n",
       "      <th>F7 delta m</th>\n",
       "      <th>...</th>\n",
       "      <th>F8 beta m</th>\n",
       "      <th>AF4 delta std</th>\n",
       "      <th>AF4 delta m</th>\n",
       "      <th>AF4 theta std</th>\n",
       "      <th>AF4 theta m</th>\n",
       "      <th>AF4 alpha std</th>\n",
       "      <th>AF4 alpha m</th>\n",
       "      <th>AF4 beta std</th>\n",
       "      <th>AF4 beta m</th>\n",
       "      <th>User</th>\n",
       "    </tr>\n",
       "  </thead>\n",
       "  <tbody>\n",
       "    <tr>\n",
       "      <th>0</th>\n",
       "      <td>3571.917284</td>\n",
       "      <td>2064.422324</td>\n",
       "      <td>0.343983</td>\n",
       "      <td>1.551304</td>\n",
       "      <td>0.180701</td>\n",
       "      <td>2.180339</td>\n",
       "      <td>2.9122</td>\n",
       "      <td>3.457287</td>\n",
       "      <td>3565.295741</td>\n",
       "      <td>2060.644007</td>\n",
       "      <td>...</td>\n",
       "      <td>41.618503</td>\n",
       "      <td>3547.785537</td>\n",
       "      <td>2068.380844</td>\n",
       "      <td>6.348976</td>\n",
       "      <td>13.346041</td>\n",
       "      <td>7.081684</td>\n",
       "      <td>11.766907</td>\n",
       "      <td>76.700764</td>\n",
       "      <td>45.584329</td>\n",
       "      <td>0.0</td>\n",
       "    </tr>\n",
       "  </tbody>\n",
       "</table>\n",
       "<p>1 rows × 113 columns</p>\n",
       "</div>"
      ],
      "text/plain": [
       "   AF3 delta std  AF3 delta m  AF3 theta std  AF3 theta m  AF3 alpha std  \\\n",
       "0    3571.917284  2064.422324       0.343983     1.551304       0.180701   \n",
       "\n",
       "   AF3 alpha m  AF3 beta std  AF3 beta m  F7 delta std   F7 delta m  ...  \\\n",
       "0     2.180339        2.9122    3.457287   3565.295741  2060.644007  ...   \n",
       "\n",
       "   F8 beta m  AF4 delta std  AF4 delta m  AF4 theta std  AF4 theta m  \\\n",
       "0  41.618503    3547.785537  2068.380844       6.348976    13.346041   \n",
       "\n",
       "   AF4 alpha std  AF4 alpha m  AF4 beta std  AF4 beta m  User  \n",
       "0       7.081684    11.766907     76.700764   45.584329   0.0  \n",
       "\n",
       "[1 rows x 113 columns]"
      ]
     },
     "execution_count": 4,
     "metadata": {},
     "output_type": "execute_result"
    }
   ],
   "source": [
    "input"
   ]
  },
  {
   "cell_type": "code",
   "execution_count": 5,
   "id": "b23bfcde",
   "metadata": {},
   "outputs": [
    {
     "name": "stdout",
     "output_type": "stream",
     "text": [
      "Predictions: 1\n"
     ]
    }
   ],
   "source": [
    "# Make predictions using the loaded model with feature names\n",
    "predictions = int(model.predict(input))\n",
    "\n",
    "print(\"Predictions:\", predictions)"
   ]
  }
 ],
 "metadata": {
  "kernelspec": {
   "display_name": "Python 3 (ipykernel)",
   "language": "python",
   "name": "python3"
  },
  "language_info": {
   "codemirror_mode": {
    "name": "ipython",
    "version": 3
   },
   "file_extension": ".py",
   "mimetype": "text/x-python",
   "name": "python",
   "nbconvert_exporter": "python",
   "pygments_lexer": "ipython3",
   "version": "3.11.2"
  }
 },
 "nbformat": 4,
 "nbformat_minor": 5
}
